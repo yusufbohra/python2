{
 "cells": [
  {
   "cell_type": "code",
   "execution_count": 4,
   "id": "254678e0-31a9-4e5a-81e7-057bd11e4ea6",
   "metadata": {},
   "outputs": [
    {
     "name": "stdout",
     "output_type": "stream",
     "text": [
      "[1, 3, 5, 7, 9, 11, 13, 15, 17, 19, 21, 23, 25]\n"
     ]
    }
   ],
   "source": [
    "#que 1\n",
    "#the keyword used to create a function is typically \"def\" \n",
    "def get_odd_numbers():\n",
    "    odd_numbers = []\n",
    "    for num in range(1, 26):\n",
    "        if num % 2 != 0:\n",
    "            odd_numbers.append(num)\n",
    "    return odd_numbers\n",
    "\n",
    "# Example usage:\n",
    "result = get_odd_numbers()\n",
    "print(result)\n"
   ]
  },
  {
   "cell_type": "code",
   "execution_count": 6,
   "id": "7f65f6a4-d919-4790-91a2-6bc6d53fd045",
   "metadata": {},
   "outputs": [],
   "source": [
    "#que 2\n",
    "#In Python, *args and **kwargs are used to pass a variable number of arguments to a function\n",
    "#example\n",
    "def test(*args):\n",
    "    return args"
   ]
  },
  {
   "cell_type": "code",
   "execution_count": 8,
   "id": "17caf36c-35e4-4a88-bf1f-0e360a9de78b",
   "metadata": {},
   "outputs": [
    {
     "data": {
      "text/plain": [
       "(7, 'thor')"
      ]
     },
     "execution_count": 8,
     "metadata": {},
     "output_type": "execute_result"
    }
   ],
   "source": [
    "test(7,'thor')"
   ]
  },
  {
   "cell_type": "code",
   "execution_count": 9,
   "id": "bf08de91-f9e4-4bd6-ad5f-6b24fe8ae9fc",
   "metadata": {},
   "outputs": [],
   "source": [
    "#example od *kwargs\n",
    "def test(**kwargs):\n",
    "    return kwargs\n"
   ]
  },
  {
   "cell_type": "code",
   "execution_count": null,
   "id": "1e9df176-96a6-46f0-9202-779dfe892fd9",
   "metadata": {},
   "outputs": [],
   "source": [
    "#que 3\n",
    "#In Python, an iterator is an object that implements the iterator protocol, which consists of two methods: __iter__() and __next__().\n",
    "\n",
    "#__iter__() method: This method initializes and returns the iterator object. It is called when the iterator is created.\n",
    "\n",
    "#__next__() method: This method is responsible for returning the next element in the iterator. It raises the StopIteration exception when there are no more elements to be returned."
   ]
  },
  {
   "cell_type": "code",
   "execution_count": 16,
   "id": "3c80d9ec-51ca-487d-b921-5ef1f0ed41f6",
   "metadata": {},
   "outputs": [],
   "source": [
    "list = [2, 4, 6, 8, 10, 12, 14, 16, 18, 20]\n",
    "l = iter(list)\n"
   ]
  },
  {
   "cell_type": "code",
   "execution_count": 18,
   "id": "9333fed8-558b-446b-911a-f3edd4671058",
   "metadata": {},
   "outputs": [
    {
     "data": {
      "text/plain": [
       "2"
      ]
     },
     "execution_count": 18,
     "metadata": {},
     "output_type": "execute_result"
    }
   ],
   "source": [
    "next(l)"
   ]
  },
  {
   "cell_type": "code",
   "execution_count": 19,
   "id": "443c111e-1e17-40d5-9f23-7e9a993b95f4",
   "metadata": {},
   "outputs": [
    {
     "data": {
      "text/plain": [
       "4"
      ]
     },
     "execution_count": 19,
     "metadata": {},
     "output_type": "execute_result"
    }
   ],
   "source": [
    "next(l)"
   ]
  },
  {
   "cell_type": "code",
   "execution_count": 20,
   "id": "1adbb29e-39bf-4da1-957a-d934c37f322f",
   "metadata": {},
   "outputs": [
    {
     "data": {
      "text/plain": [
       "6"
      ]
     },
     "execution_count": 20,
     "metadata": {},
     "output_type": "execute_result"
    }
   ],
   "source": [
    "next(l)"
   ]
  },
  {
   "cell_type": "code",
   "execution_count": 21,
   "id": "89542fd9-2cf1-4dab-8c6a-cfb5e53d44bd",
   "metadata": {},
   "outputs": [
    {
     "data": {
      "text/plain": [
       "8"
      ]
     },
     "execution_count": 21,
     "metadata": {},
     "output_type": "execute_result"
    }
   ],
   "source": [
    "next(l)"
   ]
  },
  {
   "cell_type": "code",
   "execution_count": 22,
   "id": "566c00d4-7f05-44d9-a44d-52ba20574efa",
   "metadata": {},
   "outputs": [
    {
     "data": {
      "text/plain": [
       "10"
      ]
     },
     "execution_count": 22,
     "metadata": {},
     "output_type": "execute_result"
    }
   ],
   "source": [
    "next(l)"
   ]
  },
  {
   "cell_type": "code",
   "execution_count": 23,
   "id": "14bc37ea-5a28-439e-a449-cb85c0433add",
   "metadata": {},
   "outputs": [
    {
     "name": "stdout",
     "output_type": "stream",
     "text": [
      "0\n",
      "1\n",
      "1\n",
      "2\n",
      "3\n",
      "5\n",
      "8\n",
      "13\n",
      "21\n",
      "34\n"
     ]
    }
   ],
   "source": [
    "#que 4\n",
    "#In Python, a generator function is a special type of function that generates a sequence of values using the yield keyword instead of returning a single value with the return statement\n",
    "#The yield keyword is used in generator functions to pause the execution of the function and yield a value to the caller. \n",
    "def fibonacci_generator():\n",
    "    a, b = 0, 1\n",
    "    while True:\n",
    "        yield a\n",
    "        a, b = b, a + b\n",
    "\n",
    "# Example usage:\n",
    "fib_gen = fibonacci_generator()\n",
    "for _ in range(10):\n",
    "    print(next(fib_gen))\n"
   ]
  },
  {
   "cell_type": "code",
   "execution_count": null,
   "id": "a7ab38ba-f86b-4e95-9e54-12764cf148c8",
   "metadata": {},
   "outputs": [],
   "source": []
  },
  {
   "cell_type": "code",
   "execution_count": null,
   "id": "1931422a-4552-46a9-a630-7be4129e298d",
   "metadata": {},
   "outputs": [],
   "source": []
  },
  {
   "cell_type": "code",
   "execution_count": null,
   "id": "2d624f13-71af-436b-9204-02331a7a4313",
   "metadata": {},
   "outputs": [],
   "source": []
  }
 ],
 "metadata": {
  "kernelspec": {
   "display_name": "Python 3 (ipykernel)",
   "language": "python",
   "name": "python3"
  },
  "language_info": {
   "codemirror_mode": {
    "name": "ipython",
    "version": 3
   },
   "file_extension": ".py",
   "mimetype": "text/x-python",
   "name": "python",
   "nbconvert_exporter": "python",
   "pygments_lexer": "ipython3",
   "version": "3.10.8"
  }
 },
 "nbformat": 4,
 "nbformat_minor": 5
}
