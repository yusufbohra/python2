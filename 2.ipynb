{
 "cells": [
  {
   "cell_type": "code",
   "execution_count": 1,
   "id": "58ef550f-f8cb-461a-a801-903fc5bb4317",
   "metadata": {},
   "outputs": [],
   "source": [
    "#que 5\n",
    "def prime_generator():\n",
    "    prime = []\n",
    "    while True:\n",
    "        if prime%2 != 0:\n",
    "            yield prime\n",
    "            prime.append(num)\n",
    "            num += 1"
   ]
  },
  {
   "cell_type": "code",
   "execution_count": 6,
   "id": "ecfbe335-e936-4ba2-86b2-990d07819591",
   "metadata": {},
   "outputs": [
    {
     "name": "stdout",
     "output_type": "stream",
     "text": [
      "0\n",
      "1\n",
      "1\n",
      "2\n",
      "3\n",
      "5\n",
      "8\n",
      "13\n",
      "21\n",
      "34\n"
     ]
    }
   ],
   "source": [
    "#que 6\n",
    "# Function to print the first 10 Fibonacci numbers\n",
    "def print_fibonacci():\n",
    "    count = 0\n",
    "    a, b = 0, 1\n",
    "\n",
    "    while count < 10:\n",
    "        print(a)\n",
    "        a, b = b, a + b\n",
    "        count += 1\n",
    "\n",
    "# Call the function to print the Fibonacci numbers\n",
    "print_fibonacci()\n"
   ]
  },
  {
   "cell_type": "code",
   "execution_count": 7,
   "id": "e7af5e8e-8bd4-4711-827b-61748c590b89",
   "metadata": {},
   "outputs": [
    {
     "name": "stdout",
     "output_type": "stream",
     "text": [
      "['p', 'w', 's', 'k', 'i', 'l', 'l', 's']\n"
     ]
    }
   ],
   "source": [
    "#que 7\n",
    "string = 'pwskills'\n",
    "output = [char for char in string]\n",
    "\n",
    "print(output)\n"
   ]
  },
  {
   "cell_type": "code",
   "execution_count": 14,
   "id": "8aee6029-0edc-490d-833e-568297325941",
   "metadata": {},
   "outputs": [
    {
     "ename": "SyntaxError",
     "evalue": "'(' was never closed (107416724.py, line 4)",
     "output_type": "error",
     "traceback": [
      "\u001b[0;36m  Cell \u001b[0;32mIn[14], line 4\u001b[0;36m\u001b[0m\n\u001b[0;31m    list(filter(lambda x : x%2 != 0,a)\u001b[0m\n\u001b[0m        ^\u001b[0m\n\u001b[0;31mSyntaxError\u001b[0m\u001b[0;31m:\u001b[0m '(' was never closed\n"
     ]
    }
   ],
   "source": [
    "#que 9\n",
    "a = range (1,101)\n",
    "odd = []\n",
    "list(filter(lambda x : x%2 != 0,a)\n",
    "     print(odd)"
   ]
  },
  {
   "cell_type": "code",
   "execution_count": null,
   "id": "1ba418ba-6bce-4e78-97b2-0a417dba15bd",
   "metadata": {},
   "outputs": [],
   "source": []
  }
 ],
 "metadata": {
  "kernelspec": {
   "display_name": "Python 3 (ipykernel)",
   "language": "python",
   "name": "python3"
  },
  "language_info": {
   "codemirror_mode": {
    "name": "ipython",
    "version": 3
   },
   "file_extension": ".py",
   "mimetype": "text/x-python",
   "name": "python",
   "nbconvert_exporter": "python",
   "pygments_lexer": "ipython3",
   "version": "3.10.8"
  }
 },
 "nbformat": 4,
 "nbformat_minor": 5
}
